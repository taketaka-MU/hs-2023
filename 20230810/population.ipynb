{
  "nbformat": 4,
  "nbformat_minor": 0,
  "metadata": {
    "colab": {
      "provenance": [],
      "authorship_tag": "ABX9TyNtZgKQNndSvt/1Dcy1tbwM",
      "include_colab_link": true
    },
    "kernelspec": {
      "name": "python3",
      "display_name": "Python 3"
    },
    "language_info": {
      "name": "python"
    }
  },
  "cells": [
    {
      "cell_type": "markdown",
      "metadata": {
        "id": "view-in-github",
        "colab_type": "text"
      },
      "source": [
        "<a href=\"https://colab.research.google.com/github/taketaka-MU/hs-2023/blob/main/20230810/population.ipynb\" target=\"_parent\"><img src=\"https://colab.research.google.com/assets/colab-badge.svg\" alt=\"Open In Colab\"/></a>"
      ]
    },
    {
      "cell_type": "markdown",
      "source": [
        "# 数列を使った人口増加モデル\n",
        "\n",
        "\\begin{equation}\n",
        "x_{n+1}=x_n+ r x_n\n",
        "\\end{equation}"
      ],
      "metadata": {
        "id": "TjyRxaWzjn_U"
      }
    },
    {
      "cell_type": "code",
      "execution_count": null,
      "metadata": {
        "id": "RadgywyUc0L-"
      },
      "outputs": [],
      "source": [
        "import numpy as np\n",
        "import matplotlib.pyplot as plt\n",
        "\n",
        "def calc_population(x0, year_start, year_end, growth_rate): # 人口増加モデル（離散版）\n",
        "    gyear,gx = [year_start], [x0]\n",
        "    x = x0\n",
        "    for year in range(year_start+1, year_end+1):\n",
        "      x = (1 + growth_rate) * x\n",
        "      gyear.append(year)\n",
        "      gx.append(x)\n",
        "    return gyear,gx\n",
        "\n",
        "year,x = calc_population(x0=73.8, year_start=2015, year_end=2100, growth_rate=0.0119)\n",
        "\n",
        "plt.plot(year, x,label=\"population\")\n",
        "plt.xlabel('Year')\n",
        "plt.ylabel('population')\n",
        "plt.title('World population')\n",
        "plt.grid(which='both', linestyle='--', color='gray', alpha=0.5)\n",
        "plt.legend()\n",
        "plt.show()"
      ]
    },
    {
      "cell_type": "markdown",
      "source": [
        "# 微分を使った人口増加モデル\n",
        "\n",
        "\\begin{equation}\n",
        "\\frac{dx}{dt}=ax\n",
        "\\end{equation}"
      ],
      "metadata": {
        "id": "Ds7Jlkh0izIE"
      }
    },
    {
      "cell_type": "code",
      "source": [
        "import numpy as np\n",
        "import matplotlib.pyplot as plt\n",
        "\n",
        "def calc_population_diff(x0, year_start, year_end, growth_rate, dt): # 人口増加モデル（連続版）\n",
        "    gyear,gx = [year_start], [x0]\n",
        "    x = x0\n",
        "    for i in range(int((year_end-year_start)/dt)):\n",
        "      t = year_start+dt * i     # 時刻 (year)\n",
        "      x += growth_rate * x * dt # 人口増加\n",
        "      gyear.append(t)\n",
        "      gx.append(x)\n",
        "    return gyear,gx\n",
        "\n",
        "year1,x1 = calc_population_diff(x0=73.8, year_start=2015, year_end=2100, growth_rate=0.0119,dt=0.1)\n",
        "\n",
        "plt.plot(year1, x1,label=\"population(continuous)\")\n",
        "plt.xlabel('Year')\n",
        "plt.ylabel('population')\n",
        "plt.title('World population')\n",
        "plt.grid(which='both', linestyle='--', color='gray', alpha=0.5)\n",
        "plt.legend()\n",
        "plt.show()"
      ],
      "metadata": {
        "id": "aKA7r3oGgone"
      },
      "execution_count": null,
      "outputs": []
    },
    {
      "cell_type": "markdown",
      "source": [
        "# 離散版と連続版のモデルを比べてみよう"
      ],
      "metadata": {
        "id": "znvkiUNUmd-q"
      }
    },
    {
      "cell_type": "code",
      "source": [
        "import numpy as np\n",
        "import matplotlib.pyplot as plt\n",
        "\n",
        "\n",
        "plt.plot(year, x,label=\"population(discrete)\")\n",
        "plt.plot(year1, x1,label=\"population(continuous)\")\n",
        "plt.xlabel('Year')\n",
        "plt.ylabel('population')\n",
        "plt.title('World population')\n",
        "plt.grid(which='both', linestyle='--', color='gray', alpha=0.5)\n",
        "plt.legend()\n",
        "plt.show()"
      ],
      "metadata": {
        "id": "L9yMUFMoiOmz"
      },
      "execution_count": null,
      "outputs": []
    },
    {
      "cell_type": "markdown",
      "source": [
        "# 国連人口データ\n",
        "https://population.un.org/wpp/Download/Standard/MostUsed/"
      ],
      "metadata": {
        "id": "vjc7PM70nvqj"
      }
    },
    {
      "cell_type": "code",
      "source": [
        "import pandas as pd\n",
        "df_pop=pd.DataFrame([\n",
        "[1950, 2477675],\n",
        "[1951,\t 2520970],\n",
        "[1952,\t 2565291],\n",
        "[1953,\t 2615251],\n",
        "[1954,\t 2665307],\n",
        "[1955,\t 2718652],\n",
        "[1956,\t 2773493],\n",
        "[1957,\t 2828513],\n",
        "[1958,\t 2887221],\n",
        "[1959,\t 2944995],\n",
        "[1960,\t 2995589],\n",
        "[1961,\t 3042878],\n",
        "[1962,\t 3093864],\n",
        "[1963,\t 3159510],\n",
        "[1964,\t 3232049],\n",
        "[1965,\t 3302376],\n",
        "[1966,\t 3371848],\n",
        "[1967,\t 3440986],\n",
        "[1968,\t 3509910],\n",
        "[1969,\t 3583711],\n",
        "[1970,\t 3657599],\n",
        "[1971,\t 3733182],\n",
        "[1972,\t 3807145],\n",
        "[1973,\t 3882457],\n",
        "[1974,\t 3958046],\n",
        "[1975,\t 4032988],\n",
        "[1976,\t 4105886],\n",
        "[1977,\t 4179126],\n",
        "[1978,\t 4252419],\n",
        "[1979,\t 4326896],\n",
        "[1980,\t 4404270],\n",
        "[1981,\t 4483746],\n",
        "[1982,\t 4565510],\n",
        "[1983,\t 4650460],\n",
        "[1984,\t 4733308],\n",
        "[1985,\t 4818364],\n",
        "[1986,\t 4905097],\n",
        "[1987,\t 4995029],\n",
        "[1988,\t 5086940],\n",
        "[1989,\t 5177648],\n",
        "[1990,\t 5269760],\n",
        "[1991,\t 5362591],\n",
        "[1992,\t 5449900],\n",
        "[1993,\t 5535472],\n",
        "[1994,\t 5619395],\n",
        "[1995,\t 5702061],\n",
        "[1996,\t 5784378],\n",
        "[1997,\t 5865912],\n",
        "[1998,\t 5947050],\n",
        "[1999,\t 6027575],\n",
        "[2000,\t 6107942],\n",
        "[2001,\t 6189856],\n",
        "[2002,\t 6271638],\n",
        "[2003,\t 6353177],\n",
        "[2004,\t 6434620],\n",
        "[2005,\t 6516883],\n",
        "[2006,\t 6599469],\n",
        "[2007,\t 6683363],\n",
        "[2008,\t 6768534],\n",
        "[2009,\t 6854661],\n",
        "[2010,\t 6941951],\n",
        "[2011,\t 7029255],\n",
        "[2012,\t 7116996],\n",
        "[2013,\t 7206400],\n",
        "[2014,\t 7294787],\n",
        "[2015,\t 7383240],\n",
        "[2016,\t 7469955],\n",
        "[2017,\t 7556993],\n",
        "[2018,\t 7642651],\n",
        "[2019,\t 7724928],\n",
        "[2020,\t 7804974],\n",
        "[2021,\t 7876932]\n",
        "],columns=['year', 'population'])"
      ],
      "metadata": {
        "id": "5gGvCSAhnM7N"
      },
      "execution_count": 24,
      "outputs": []
    },
    {
      "cell_type": "code",
      "source": [
        "import numpy as np\n",
        "import matplotlib.pyplot as plt\n",
        "\n",
        "plt.plot(year, x,label=\"population(discrete)\")\n",
        "plt.plot(year1, x1,label=\"population(continuous)\")\n",
        "plt.plot(df_pop['year'], df_pop['population']/10**5, label=\"UN data\", marker='o')\n",
        "plt.xlabel('Year')\n",
        "plt.ylabel('population')\n",
        "plt.title('World population')\n",
        "plt.grid(which='both', linestyle='--', color='gray', alpha=0.5)\n",
        "plt.legend()\n",
        "plt.show()"
      ],
      "metadata": {
        "id": "ZIUT6uNFsqmq"
      },
      "execution_count": null,
      "outputs": []
    },
    {
      "cell_type": "markdown",
      "source": [
        "# 人口増加率の変化を見る"
      ],
      "metadata": {
        "id": "74YSHaNzzJJH"
      }
    },
    {
      "cell_type": "code",
      "source": [
        "df_pop['growth_rate']=df_pop['population']\n",
        "for i, row in df_pop.iterrows():\n",
        "    if i==0:\n",
        "      row['growth_rate']=0\n",
        "    else:\n",
        "      df_pop.loc[i, 'growth_rate'] = row['population']/df_pop.loc[i-1, 'population']"
      ],
      "metadata": {
        "id": "IFtKOx-FvfN_"
      },
      "execution_count": 31,
      "outputs": []
    },
    {
      "cell_type": "code",
      "source": [
        "import numpy as np\n",
        "import matplotlib.pyplot as plt\n",
        "\n",
        "plt.plot(df_pop['year'][1:], df_pop['growth_rate'][1:], label=\"UN data growth rate\")\n",
        "plt.xlabel('Year')\n",
        "plt.ylabel('growth rate')\n",
        "plt.title('Growth rate of World population')\n",
        "plt.grid(which='both', linestyle='--', color='gray', alpha=0.5)\n",
        "plt.legend()\n",
        "plt.show()"
      ],
      "metadata": {
        "id": "44lkvZzvyALB"
      },
      "execution_count": null,
      "outputs": []
    },
    {
      "cell_type": "code",
      "source": [],
      "metadata": {
        "id": "Zv4QEBuTyWAN"
      },
      "execution_count": null,
      "outputs": []
    }
  ]
}