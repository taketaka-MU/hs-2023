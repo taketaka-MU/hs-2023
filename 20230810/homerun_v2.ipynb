{
  "nbformat": 4,
  "nbformat_minor": 0,
  "metadata": {
    "colab": {
      "provenance": [],
      "authorship_tag": "ABX9TyNSNayI6Mwo5MX0lDA7B7eW",
      "include_colab_link": true
    },
    "kernelspec": {
      "name": "python3",
      "display_name": "Python 3"
    },
    "language_info": {
      "name": "python"
    }
  },
  "cells": [
    {
      "cell_type": "markdown",
      "metadata": {
        "id": "view-in-github",
        "colab_type": "text"
      },
      "source": [
        "<a href=\"https://colab.research.google.com/github/taketaka-MU/hs-2023/blob/main/20230810/homerun_v2.ipynb\" target=\"_parent\"><img src=\"https://colab.research.google.com/assets/colab-badge.svg\" alt=\"Open In Colab\"/></a>"
      ]
    },
    {
      "cell_type": "markdown",
      "source": [
        "# **大谷選手のホームランデータから軌道を計算しよう**\n",
        "\n",
        "参考サイト\n",
        "* https://web3.hide.ac/articles/dtF3OzR8y\n",
        "* https://baseballsavant.mlb.com/statcast_leaderboard\n"
      ],
      "metadata": {
        "id": "tMlYS7JPoIb0"
      }
    },
    {
      "cell_type": "markdown",
      "source": [
        "ボールの軌道\n",
        "\n",
        "初期速度：$(u_0,v_0)=(V_0  \\cos \\theta, V_0  \\sin \\theta)$\n",
        "\n",
        "位置：$(x(t),y(t))=(u_0 t, v_0 t - \\frac{1}{2}t^2)$"
      ],
      "metadata": {
        "id": "wx9flUq5etvl"
      }
    },
    {
      "cell_type": "markdown",
      "source": [
        "第39号\n",
        "\n",
        "日時：2023-07-28\n",
        "\n",
        "ピッチャー：Gausman, Kevin\n",
        "\n",
        "打球角度：28°\n",
        "\n",
        "打球初速：46.3(m/s) = 時速167Km\n",
        "\n",
        "到達距離：128m"
      ],
      "metadata": {
        "id": "oEnTZVFScllJ"
      }
    },
    {
      "cell_type": "code",
      "source": [
        "import numpy as np\n",
        "import matplotlib.pyplot as plt\n",
        "\n",
        "angle = np.radians(28.0) # 角度 (radian)\n",
        "speed = 46.3 # 初速 (m/s)\n",
        "hit_distance = 128 # 到達距離 (m)\n",
        "g = 9.81  # 重力加速度 m/s^2\n",
        "t_flight = 2 * speed * np.sin(angle) / g # 滞空時間\n",
        "t = np.linspace(0, t_flight, num=1000)\n",
        "x = speed * np.cos(angle) * t\n",
        "y = speed * np.sin(angle) * t - 0.5 * g * t ** 2\n",
        "plt.plot(x, y,label=\"39\")\n",
        "plt.plot(hit_distance, 0,marker='o', label=\"hit_distance\")\n",
        "plt.xlabel('Distance (m)')\n",
        "plt.ylabel('Height (m)')\n",
        "plt.title('Motion of Shohei Ohtani home run')\n",
        "plt.legend()\n",
        "plt.show()"
      ],
      "metadata": {
        "id": "_NW8OS9Nf8Xk"
      },
      "execution_count": null,
      "outputs": []
    },
    {
      "cell_type": "markdown",
      "source": [
        "# 運動方程式で軌道を計算する\n",
        "\n",
        "質量 $m$ の物体に対して、$y$ 方向逆向きに重力 $g$ がかっているとすると、\n",
        "\\begin{eqnarray}\n",
        "m\\frac{du}{dt}&=&0\\\\\n",
        "\\frac{dv}{dt}&=&-mg\n",
        "\\end{eqnarray}\n",
        "\n",
        "従って、位置 $x, y$、速度 $u,  v$ の時間変化は次の方程式でかける。\n",
        "\\begin{eqnarray}\n",
        "\\frac{dx}{dt}&=&u\\\\\n",
        "\\frac{dy}{dt}&=&v\\\\\n",
        "\\frac{du}{dt}&=&0\\\\\n",
        "\\frac{dv}{dt}&=&-g\n",
        "\\end{eqnarray}\n"
      ],
      "metadata": {
        "id": "KJqgUDgUlT6o"
      }
    },
    {
      "cell_type": "code",
      "source": [
        "import numpy as np\n",
        "import matplotlib.pyplot as plt\n",
        "\n",
        "def calc(launch_speed, launch_angle): # 運動方程式で\n",
        "    g = 9.81  # Gravity acceleration in m/s^2\n",
        "    ux = launch_speed * np.cos(launch_angle)\n",
        "    uy = launch_speed * np.sin(launch_angle)\n",
        "    x, y = 0, 0\n",
        "    dt=0.01\n",
        "    gux,guy,gx,gy = [], [], [], []\n",
        "    for i in range(1000):\n",
        "      uxold,uyold,xold,yold=ux,uy,x,y\n",
        "      ux += 0\n",
        "      uy += -g * dt\n",
        "      x += ux * dt\n",
        "      y += uy * dt\n",
        "      gux.append(ux)\n",
        "      guy.append(uy)\n",
        "      gx.append(x)\n",
        "      gy.append(y)\n",
        "      if(y < 0):\n",
        "        break;\n",
        "\n",
        "    return gux,guy,gx,gy\n",
        "\n",
        "# 運動方程式で軌道の計算\n",
        "ux, uy, cx, cy = calc(speed, angle)\n",
        "\n",
        "plt.figure(figsize=(10, 6))\n",
        "plt.plot(x, y,label=\"39\")\n",
        "plt.plot(hit_distance, 0,marker='o', label=\"hit_distance\")\n",
        "plt.plot(cx, cy,label=\"motion eq.\")\n",
        "\n",
        "plt.xlabel('Distance (m)')\n",
        "plt.ylabel('Height (m)')\n",
        "plt.title('Motion of Shohei Ohtani home runs')\n",
        "plt.grid(which='both', linestyle='--', color='gray', alpha=0.5)\n",
        "plt.legend()\n",
        "plt.show()"
      ],
      "metadata": {
        "id": "3t5OAJwUnKSg"
      },
      "execution_count": null,
      "outputs": []
    },
    {
      "cell_type": "markdown",
      "source": [
        "# 空気抵抗を考えてみよう\n",
        "\n",
        "仮定：空気抵抗は速度の2乗で効く\n",
        "* 進行方向に対して $u^2+v^2$ の 大きさ\n",
        "* $x$ 方向は $(u^2+v^2) \\cdot \\frac{u}{\\sqrt{u^2+v^2}}= \\sqrt{u^2+v^2} u$\n",
        "* $y$ 方向は $(u^2+v^2) \\cdot \\frac{v}{\\sqrt{u^2+v^2}}= \\sqrt{u^2+v^2} v$\n",
        "\n",
        "従って、次の方程式で時間変化を計算できる。\n",
        "\\begin{eqnarray}\n",
        "\\frac{dx}{dt}&=&u\\\\\n",
        "\\frac{dy}{dt}&=&v\\\\\n",
        "\\frac{du}{dt}&=&-k \\sqrt{u^2+v^2}u\\\\\n",
        "\\frac{dv}{dt}&=&-k \\sqrt{u^2+v^2}v -g\n",
        "\\end{eqnarray}"
      ],
      "metadata": {
        "id": "9gp6J-6rmt0i"
      }
    },
    {
      "cell_type": "code",
      "source": [
        "import numpy as np\n",
        "import matplotlib.pyplot as plt\n",
        "\n",
        "def calc_drag(launch_speed, launch_angle, k): # 空気抵抗を加えた運動方程式\n",
        "    g = 9.81  # Gravity acceleration in m/s^2\n",
        "    ux = launch_speed * np.cos(launch_angle)\n",
        "    uy = launch_speed * np.sin(launch_angle)\n",
        "    x, y = 0, 0\n",
        "    dt=0.01\n",
        "    gux,guy,gx,gy = [], [], [], []\n",
        "    for i in range(1000):\n",
        "      uxold,uyold,xold,yold=ux,uy,x,y\n",
        "      u=np.sqrt(ux*ux+uy*uy)\n",
        "      ux += (- k * u * ux)*dt\n",
        "      uy += (-g -k * u * uy)*dt\n",
        "      x += ux * dt\n",
        "      y += uy * dt\n",
        "      gux.append(ux)\n",
        "      guy.append(uy)\n",
        "      gx.append(x)\n",
        "      gy.append(y)\n",
        "      if(y < 0):\n",
        "        break;\n",
        "\n",
        "    return gux,guy,gx,gy\n",
        "\n",
        "# 空気抵抗を入れた軌道の計算\n",
        "k = 0.0045 # 空気抵抗係数\n",
        "ux, uy, cx, cy = calc_drag(speed, angle, k)\n",
        "\n",
        "plt.figure(figsize=(10, 6))\n",
        "plt.plot(x, y,label=\"39\")\n",
        "plt.plot(hit_distance, 0,marker='o', label=\"hit_distance\")\n",
        "plt.plot(cx, cy,label=\"with drag coef.\")\n",
        "\n",
        "plt.xlabel('Distance (m)')\n",
        "plt.ylabel('Height (m)')\n",
        "plt.title('Motion of Shohei Ohtani home runs')\n",
        "plt.grid(which='both', linestyle='--', color='gray', alpha=0.5)\n",
        "plt.legend()\n",
        "plt.show()"
      ],
      "metadata": {
        "id": "PrAKYVa6qmzK"
      },
      "execution_count": null,
      "outputs": []
    },
    {
      "cell_type": "code",
      "source": [],
      "metadata": {
        "id": "WwRCp8SBRGAt"
      },
      "execution_count": null,
      "outputs": []
    }
  ]
}