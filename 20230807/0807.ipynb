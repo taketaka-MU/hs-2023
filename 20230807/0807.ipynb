{
  "nbformat": 4,
  "nbformat_minor": 0,
  "metadata": {
    "colab": {
      "provenance": [],
      "authorship_tag": "ABX9TyNlJs7M391g0+pZeiUD5vrD",
      "include_colab_link": true
    },
    "kernelspec": {
      "name": "python3",
      "display_name": "Python 3"
    },
    "language_info": {
      "name": "python"
    }
  },
  "cells": [
    {
      "cell_type": "markdown",
      "metadata": {
        "id": "view-in-github",
        "colab_type": "text"
      },
      "source": [
        "<a href=\"https://colab.research.google.com/github/taketaka-MU/hs-2023/blob/main/20230807/0807.ipynb\" target=\"_parent\"><img src=\"https://colab.research.google.com/assets/colab-badge.svg\" alt=\"Open In Colab\"/></a>"
      ]
    },
    {
      "cell_type": "markdown",
      "source": [
        "2023-08-07 用新規ファイルです。"
      ],
      "metadata": {
        "id": "f3xN3eapbJky"
      }
    },
    {
      "cell_type": "markdown",
      "source": [
        "放物線のグラフを描いてみましょう"
      ],
      "metadata": {
        "id": "oEZdbejGCyx9"
      }
    },
    {
      "cell_type": "code",
      "execution_count": null,
      "metadata": {
        "id": "Qc7UdqKvbANm"
      },
      "outputs": [],
      "source": []
    }
  ]
}