{
  "nbformat": 4,
  "nbformat_minor": 0,
  "metadata": {
    "colab": {
      "provenance": [],
      "authorship_tag": "ABX9TyNIBrM0QffmcNzt0O8kJgDe",
      "include_colab_link": true
    },
    "kernelspec": {
      "name": "python3",
      "display_name": "Python 3"
    },
    "language_info": {
      "name": "python"
    }
  },
  "cells": [
    {
      "cell_type": "markdown",
      "metadata": {
        "id": "view-in-github",
        "colab_type": "text"
      },
      "source": [
        "<a href=\"https://colab.research.google.com/github/taketaka-MU/hs-2023/blob/main/20230807/find_min_max.ipynb\" target=\"_parent\"><img src=\"https://colab.research.google.com/assets/colab-badge.svg\" alt=\"Open In Colab\"/></a>"
      ]
    },
    {
      "cell_type": "markdown",
      "source": [
        "# 放物線の最小値や最大値を探す\n",
        "\n",
        "### $y=x^2$ の最小値を左側 ($x=-1$) から探す\n",
        "\n",
        "傾き$\\ge 0$  になったら終了"
      ],
      "metadata": {
        "id": "hW7Q7PmioBKR"
      }
    },
    {
      "cell_type": "code",
      "execution_count": 1,
      "metadata": {
        "colab": {
          "base_uri": "https://localhost:8080/"
        },
        "id": "_8RVjz6Qy2Cn",
        "outputId": "f050059a-2165-4b05-9da2-91f3f63ae5e6"
      },
      "outputs": [
        {
          "output_type": "stream",
          "name": "stdout",
          "text": [
            "x=-0.900000, y=0.810000, dy=-0.190000\n",
            "x=-0.800000, y=0.640000, dy=-0.170000\n",
            "x=-0.700000, y=0.490000, dy=-0.150000\n",
            "x=-0.600000, y=0.360000, dy=-0.130000\n",
            "x=-0.500000, y=0.250000, dy=-0.110000\n",
            "x=-0.400000, y=0.160000, dy=-0.090000\n",
            "x=-0.300000, y=0.090000, dy=-0.070000\n",
            "x=-0.200000, y=0.040000, dy=-0.050000\n",
            "x=-0.100000, y=0.010000, dy=-0.030000\n",
            "x=-0.000000, y=0.000000, dy=-0.010000\n",
            "x=-0.000000, y=0.000000\n"
          ]
        }
      ],
      "source": [
        "def fn(x):\n",
        "  return x*x\n",
        "\n",
        "dx=0.1 # dx > 0\n",
        "x1=-1.0\n",
        "while(x1 < 1.0):\n",
        "  x2=x1+dx # x1 < x2\n",
        "  dy=fn(x2) - fn(x1) # 傾き\n",
        "  if(dy<0):\n",
        "    x1=x2\n",
        "  else:\n",
        "    break\n",
        "  print(\"x=%f, y=%f, dy=%f\" % (x1,fn(x1),dy))\n",
        "\n",
        "print(\"x=%f, y=%f\" % (x1,fn(x1)))"
      ]
    },
    {
      "cell_type": "markdown",
      "source": [
        "### 両側から探せるプログラムを作る\n",
        "\n",
        "傾きの符号が反転したら終了"
      ],
      "metadata": {
        "id": "yoAanr8Joph0"
      }
    },
    {
      "cell_type": "code",
      "source": [
        "def fn(x):\n",
        "  return x*x\n",
        "\n",
        "dx=0.01 # dx > 0\n",
        "x1=0.3\n",
        "dy1=0\n",
        "while(x1 > -1.0 and x1 < 1.0):\n",
        "  x2=x1+dx # x1 < x2\n",
        "  dy=fn(x2) - fn(x1) # 傾き\n",
        "  if(dy*dy1 < 0):\n",
        "    break\n",
        "  if(dy>0):\n",
        "    x1=x1-dx\n",
        "  elif(dy<0):\n",
        "    x1=x2\n",
        "  dy1 = dy # 前回の傾き\n",
        "  print(\"x=%f, y=%f, dy=%f\" % (x1,fn(x1),dy))\n",
        "\n",
        "print(\"x=%f, y=%f\" % (x1,fn(x1)))"
      ],
      "metadata": {
        "colab": {
          "base_uri": "https://localhost:8080/"
        },
        "id": "AVdJCs5l07S1",
        "outputId": "f54163d6-e269-4d01-c94c-cae4f69ea47d"
      },
      "execution_count": 12,
      "outputs": [
        {
          "output_type": "stream",
          "name": "stdout",
          "text": [
            "x=0.290000, y=0.084100, dy=0.006100\n",
            "x=0.280000, y=0.078400, dy=0.005900\n",
            "x=0.270000, y=0.072900, dy=0.005700\n",
            "x=0.260000, y=0.067600, dy=0.005500\n",
            "x=0.250000, y=0.062500, dy=0.005300\n",
            "x=0.240000, y=0.057600, dy=0.005100\n",
            "x=0.230000, y=0.052900, dy=0.004900\n",
            "x=0.220000, y=0.048400, dy=0.004700\n",
            "x=0.210000, y=0.044100, dy=0.004500\n",
            "x=0.200000, y=0.040000, dy=0.004300\n",
            "x=0.190000, y=0.036100, dy=0.004100\n",
            "x=0.180000, y=0.032400, dy=0.003900\n",
            "x=0.170000, y=0.028900, dy=0.003700\n",
            "x=0.160000, y=0.025600, dy=0.003500\n",
            "x=0.150000, y=0.022500, dy=0.003300\n",
            "x=0.140000, y=0.019600, dy=0.003100\n",
            "x=0.130000, y=0.016900, dy=0.002900\n",
            "x=0.120000, y=0.014400, dy=0.002700\n",
            "x=0.110000, y=0.012100, dy=0.002500\n",
            "x=0.100000, y=0.010000, dy=0.002300\n",
            "x=0.090000, y=0.008100, dy=0.002100\n",
            "x=0.080000, y=0.006400, dy=0.001900\n",
            "x=0.070000, y=0.004900, dy=0.001700\n",
            "x=0.060000, y=0.003600, dy=0.001500\n",
            "x=0.050000, y=0.002500, dy=0.001300\n",
            "x=0.040000, y=0.001600, dy=0.001100\n",
            "x=0.030000, y=0.000900, dy=0.000900\n",
            "x=0.020000, y=0.000400, dy=0.000700\n",
            "x=0.010000, y=0.000100, dy=0.000500\n",
            "x=-0.000000, y=0.000000, dy=0.000300\n",
            "x=-0.010000, y=0.000100, dy=0.000100\n",
            "x=-0.010000, y=0.000100\n"
          ]
        }
      ]
    },
    {
      "cell_type": "markdown",
      "source": [
        "###大谷選手のホームランの軌道から最高到達地点（$y$ の最大値）を求める\n",
        "\n",
        "最初から軌道のデータをたどって、傾きが負になったら終了"
      ],
      "metadata": {
        "id": "mbGhJwvhnuI9"
      }
    },
    {
      "cell_type": "code",
      "source": [
        "import numpy as np\n",
        "import matplotlib.pyplot as plt\n",
        "\n",
        "angle = np.radians(28.0) # 角度 (radian)\n",
        "speed = 46.3 # 初速 (m/s)\n",
        "hit_distance = 128 # 到達距離 (m)\n",
        "g = 9.81  # 重力加速度 m/s^2\n",
        "t_flight = 2 * speed * np.sin(angle) / g # 滞空時間\n",
        "t = np.linspace(0, t_flight, num=1000)\n",
        "x = speed * np.cos(angle) * t\n",
        "y = speed * np.sin(angle) * t - 0.5 * g * t ** 2\n",
        "\n",
        "for i in range(len(x)-1): # 軌道のデータを左から順番にたどる\n",
        "  x1=x[i]\n",
        "  x2=x[i+1]\n",
        "  dy=y[i+1] - y[i] # 傾き\n",
        "  if(dy<0):\n",
        "    break\n",
        "print(\"x=%fm, y=%fm\" % (x[i],y[i]))\n",
        "\n",
        "plt.plot(x, y,label=\"39\")\n",
        "plt.plot(x[i], y[i], marker='o', label=\"max(y)\")\n",
        "plt.xlabel('Distance (m)')\n",
        "plt.ylabel('Height (m)')\n",
        "plt.title('Motion of Shohei Ohtani home run')\n",
        "plt.legend()\n",
        "plt.show()"
      ],
      "metadata": {
        "colab": {
          "base_uri": "https://localhost:8080/",
          "height": 490
        },
        "id": "_NW8OS9Nf8Xk",
        "outputId": "9abecd42-dc83-4d00-81f4-428ec0f0c497"
      },
      "execution_count": 17,
      "outputs": [
        {
          "output_type": "stream",
          "name": "stdout",
          "text": [
            "x=90.671689m, y=24.081366m\n"
          ]
        },
        {
          "output_type": "display_data",
          "data": {
            "text/plain": [
              "<Figure size 640x480 with 1 Axes>"
            ],
            "image/png": "[encoded data removed]"
          },
          "metadata": {}
        }
      ]
    },
    {
      "cell_type": "code",
      "source": [],
      "metadata": {
        "id": "EkKtSG2v514l"
      },
      "execution_count": null,
      "outputs": []
    }
  ]
}