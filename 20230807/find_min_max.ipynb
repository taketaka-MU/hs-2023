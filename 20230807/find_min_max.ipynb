{
  "nbformat": 4,
  "nbformat_minor": 0,
  "metadata": {
    "colab": {
      "provenance": [],
      "authorship_tag": "ABX9TyNl1rntz6fMXEHR5sIUcgkI",
      "include_colab_link": true
    },
    "kernelspec": {
      "name": "python3",
      "display_name": "Python 3"
    },
    "language_info": {
      "name": "python"
    }
  },
  "cells": [
    {
      "cell_type": "markdown",
      "metadata": {
        "id": "view-in-github",
        "colab_type": "text"
      },
      "source": [
        "<a href=\"https://colab.research.google.com/github/taketaka-MU/hs-2023/blob/main/20230807/find_min_max.ipynb\" target=\"_parent\"><img src=\"https://colab.research.google.com/assets/colab-badge.svg\" alt=\"Open In Colab\"/></a>"
      ]
    },
    {
      "cell_type": "markdown",
      "source": [
        "# 放物線の最小値や最大値を探す\n",
        "\n",
        "### $y=x^2$ の最小値を左側 ($x=-1$) から探す\n",
        "\n",
        "傾き$\\ge 0$  になったら終了"
      ],
      "metadata": {
        "id": "hW7Q7PmioBKR"
      }
    },
    {
      "cell_type": "code",
      "execution_count": null,
      "metadata": {
        "id": "_8RVjz6Qy2Cn"
      },
      "outputs": [],
      "source": [
        "def fn(x):\n",
        "  return x*x\n",
        "\n",
        "dx=0.1 # dx > 0\n",
        "x1=-1.0\n",
        "while(x1 < 1.0):\n",
        "  x2=x1+dx # x1 < x2\n",
        "  dy=(fn(x2) - fn(x1))/dx # 傾き\n",
        "  if(dy<0):\n",
        "    x1=x2\n",
        "  else:\n",
        "    break\n",
        "  print(\"x=%f, y=%f, dy=%f\" % (x1,fn(x1),dy))\n",
        "\n",
        "print(\"x=%f, y=%f\" % (x1,fn(x1)))"
      ]
    },
    {
      "cell_type": "markdown",
      "source": [
        "### 両側から探せるプログラムを作る\n",
        "\n",
        "傾きの符号が反転したら終了"
      ],
      "metadata": {
        "id": "yoAanr8Joph0"
      }
    },
    {
      "cell_type": "code",
      "source": [
        "def fn(x):\n",
        "  return x*x\n",
        "\n",
        "dx=0.01 # dx > 0\n",
        "x1=0.3\n",
        "dy1=0\n",
        "while(x1 > -1.0 and x1 < 1.0):\n",
        "  x2=x1+dx # x1 < x2\n",
        "  dy=(fn(x2) - fn(x1))/dx # 傾き\n",
        "  if(dy*dy1 < 0):\n",
        "    break\n",
        "  if(dy>0):\n",
        "    x1=x1-dx\n",
        "  elif(dy<0):\n",
        "    x1=x2\n",
        "  dy1 = dy # 前回の傾き\n",
        "  print(\"x=%f, y=%f, dy=%f\" % (x1,fn(x1),dy))\n",
        "\n",
        "print(\"x=%f, y=%f\" % (x1,fn(x1)))"
      ],
      "metadata": {
        "id": "AVdJCs5l07S1"
      },
      "execution_count": null,
      "outputs": []
    },
    {
      "cell_type": "markdown",
      "source": [
        "###大谷選手のホームランの軌道から最高到達地点（$y$ の最大値）を求める\n",
        "\n",
        "最初から軌道のデータをたどって、傾きが負になったら終了"
      ],
      "metadata": {
        "id": "mbGhJwvhnuI9"
      }
    },
    {
      "cell_type": "code",
      "source": [
        "import numpy as np\n",
        "import matplotlib.pyplot as plt\n",
        "\n",
        "angle = np.radians(28.0) # 角度 (radian)\n",
        "speed = 46.3 # 初速 (m/s)\n",
        "hit_distance = 128 # 到達距離 (m)\n",
        "g = 9.81  # 重力加速度 m/s^2\n",
        "t_flight = 2 * speed * np.sin(angle) / g # 滞空時間\n",
        "t = np.linspace(0, t_flight, num=1000)\n",
        "x = speed * np.cos(angle) * t\n",
        "y = speed * np.sin(angle) * t - 0.5 * g * t ** 2\n",
        "\n",
        "for i in range(len(x)-1): # 軌道のデータを左から順番にたどる\n",
        "  dy=(y[i+1] - y[i])/(x[i+1]-x[i]) # 傾き\n",
        "  if(dy<0):\n",
        "    break\n",
        "print(\"x=%fm, y=%fm\" % (x[i],y[i]))\n",
        "\n",
        "plt.plot(x, y,label=\"39\")\n",
        "plt.plot(x[i], y[i], marker='o', label=\"max(y)\")\n",
        "plt.xlabel('Distance (m)')\n",
        "plt.ylabel('Height (m)')\n",
        "plt.title('Motion of Shohei Ohtani home run')\n",
        "plt.legend()\n",
        "plt.show()"
      ],
      "metadata": {
        "id": "_NW8OS9Nf8Xk"
      },
      "execution_count": null,
      "outputs": []
    },
    {
      "cell_type": "code",
      "source": [],
      "metadata": {
        "id": "EkKtSG2v514l"
      },
      "execution_count": null,
      "outputs": []
    }
  ]
}