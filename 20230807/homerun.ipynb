{
  "nbformat": 4,
  "nbformat_minor": 0,
  "metadata": {
    "colab": {
      "provenance": [],
      "authorship_tag": "ABX9TyNmXmvOdO+RnNYcTzfAjZTa",
      "include_colab_link": true
    },
    "kernelspec": {
      "name": "python3",
      "display_name": "Python 3"
    },
    "language_info": {
      "name": "python"
    }
  },
  "cells": [
    {
      "cell_type": "markdown",
      "metadata": {
        "id": "view-in-github",
        "colab_type": "text"
      },
      "source": [
        "<a href=\"https://colab.research.google.com/github/taketaka-MU/hs-2023/blob/main/20230807/homerun.ipynb\" target=\"_parent\"><img src=\"https://colab.research.google.com/assets/colab-badge.svg\" alt=\"Open In Colab\"/></a>"
      ]
    },
    {
      "cell_type": "markdown",
      "source": [
        "# **大谷選手のホームランデータから軌道を計算しよう**\n",
        "\n",
        "参考サイト\n",
        "* https://web3.hide.ac/articles/dtF3OzR8y\n",
        "* https://baseballsavant.mlb.com/statcast_leaderboard\n"
      ],
      "metadata": {
        "id": "tMlYS7JPoIb0"
      }
    },
    {
      "cell_type": "markdown",
      "source": [
        "ボールの軌道\n",
        "\n",
        "初期速度：$(u_0,v_0)=(V_0  \\cos \\theta, V_0  \\sin \\theta)$\n",
        "\n",
        "位置：$(x(t),y(t))=(u_0 t, v_0 t - \\frac{1}{2}t^2)$"
      ],
      "metadata": {
        "id": "wx9flUq5etvl"
      }
    },
    {
      "cell_type": "markdown",
      "source": [
        "第39号\n",
        "* 日時：2023-07-28\n",
        "* ピッチャー：Gausman, Kevin\n",
        "* 打球角度：28°\n",
        "* 打球初速：46.3(m/s) = 時速167Km\n",
        "* 到達距離：128m"
      ],
      "metadata": {
        "id": "oEnTZVFScllJ"
      }
    },
    {
      "cell_type": "code",
      "source": [
        "import numpy as np\n",
        "import matplotlib.pyplot as plt\n",
        "\n",
        "angle = np.radians(28.0) # 角度 (radian)\n",
        "speed = 46.3 # 初速 (m/s)\n",
        "hit_distance = 128 # 到達距離 (m)\n",
        "g = 9.81  # 重力加速度 m/s^2\n",
        "t_flight = 2 * speed * np.sin(angle) / g # 滞空時間\n",
        "t = np.linspace(0, t_flight, num=1000)\n",
        "x = speed * np.cos(angle) * t\n",
        "y = speed * np.sin(angle) * t - 0.5 * g * t ** 2\n",
        "plt.plot(x, y,label=\"39\")\n",
        "\n",
        "plt.xlabel('Distance (m)')\n",
        "plt.ylabel('Height (m)')\n",
        "plt.title('Motion of Shohei Ohtani home run')\n",
        "plt.legend()\n",
        "plt.show()"
      ],
      "metadata": {
        "id": "_NW8OS9Nf8Xk"
      },
      "execution_count": null,
      "outputs": []
    },
    {
      "cell_type": "code",
      "source": [],
      "metadata": {
        "id": "WwRCp8SBRGAt"
      },
      "execution_count": null,
      "outputs": []
    }
  ]
}